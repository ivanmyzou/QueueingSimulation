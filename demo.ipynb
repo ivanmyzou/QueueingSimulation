{
 "cells": [
  {
   "cell_type": "markdown",
   "id": "19ecbb1d-66ba-4245-93c1-803c18075342",
   "metadata": {},
   "source": [
    "# Queuing Simulations and Analysis"
   ]
  },
  {
   "cell_type": "code",
   "execution_count": 2,
   "id": "ca309e80-77d3-4d2a-bf56-4dd58b42a0f5",
   "metadata": {},
   "outputs": [],
   "source": [
    "from util import *"
   ]
  },
  {
   "cell_type": "markdown",
   "id": "73a44ae1-8bbc-4583-8163-f9f86c2857e9",
   "metadata": {},
   "source": [
    "## MM1 Queues"
   ]
  },
  {
   "cell_type": "markdown",
   "id": "e2ef3107-9473-4171-9833-fd13d1eb7651",
   "metadata": {},
   "source": [
    "## MMn Queues"
   ]
  },
  {
   "cell_type": "markdown",
   "id": "483c2b80-eb72-4aa8-8b91-5ef1d586fba5",
   "metadata": {},
   "source": [
    "## GGn Queues"
   ]
  },
  {
   "cell_type": "markdown",
   "id": "b8ab923a-eb5a-4617-9f76-ca8436e7b5b2",
   "metadata": {},
   "source": [
    "## Comparative Analysis"
   ]
  },
  {
   "cell_type": "markdown",
   "id": "eb030453-6f28-4e58-b355-d83e226748b9",
   "metadata": {},
   "source": [
    "### 1. Baseline"
   ]
  },
  {
   "cell_type": "markdown",
   "id": "41c269a2-bdb0-4945-bced-aed83ac26d2a",
   "metadata": {},
   "source": [
    "### 2. Quantity"
   ]
  },
  {
   "cell_type": "markdown",
   "id": "d9f11ad0-2e37-48d7-8e5b-004eeffc2d27",
   "metadata": {},
   "source": [
    "### 3. Quality"
   ]
  },
  {
   "cell_type": "markdown",
   "id": "abf429bf-76a0-4436-b85e-c386c452db78",
   "metadata": {},
   "source": [
    "### 4. Adding More Efficient Servers"
   ]
  },
  {
   "cell_type": "markdown",
   "id": "abf6d4d8-e6e4-4845-8563-1121c6997d3c",
   "metadata": {},
   "source": [
    "### 5. Non-Preemptive Priority Classes"
   ]
  }
 ],
 "metadata": {
  "kernelspec": {
   "display_name": "Python 3 (ipykernel)",
   "language": "python",
   "name": "python3"
  },
  "language_info": {
   "codemirror_mode": {
    "name": "ipython",
    "version": 3
   },
   "file_extension": ".py",
   "mimetype": "text/x-python",
   "name": "python",
   "nbconvert_exporter": "python",
   "pygments_lexer": "ipython3",
   "version": "3.10.4"
  }
 },
 "nbformat": 4,
 "nbformat_minor": 5
}
