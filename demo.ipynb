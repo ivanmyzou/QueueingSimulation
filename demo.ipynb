{
 "cells": [
  {
   "cell_type": "markdown",
   "id": "19ecbb1d-66ba-4245-93c1-803c18075342",
   "metadata": {},
   "source": [
    "# Queuing Simulations and Analysis"
   ]
  },
  {
   "cell_type": "code",
   "execution_count": 1,
   "id": "ca309e80-77d3-4d2a-bf56-4dd58b42a0f5",
   "metadata": {},
   "outputs": [],
   "source": [
    "from util import *\n",
    "\n",
    "import numpy as np"
   ]
  },
  {
   "cell_type": "markdown",
   "id": "73a44ae1-8bbc-4583-8163-f9f86c2857e9",
   "metadata": {},
   "source": [
    "## MM1 Queues"
   ]
  },
  {
   "cell_type": "markdown",
   "id": "8c2a3085-5c5e-498b-908c-e3ed6d5ea609",
   "metadata": {},
   "source": [
    "Arrival rate: $\\lambda = 1$\n",
    "\n",
    "Departure rate: $\\mu = 2$"
   ]
  },
  {
   "cell_type": "code",
   "execution_count": 2,
   "id": "e45fc4fb-2456-49a2-bc41-4e101623a3ae",
   "metadata": {},
   "outputs": [
    {
     "name": "stdout",
     "output_type": "stream",
     "text": [
      "empirical mean response time: 0.99922, expected response time: 1.00000\n",
      "empirical server utilisation: 0.50459, expected server utilisation: 0.50000\n"
     ]
    }
   ],
   "source": [
    "sim = MM1(1, 2, time_end = 5000, seed = 0)\n",
    "sim.run()\n",
    "sim.evaluate() #25% by default is the transient exclusion\n",
    "\n",
    "print(f\"empirical mean response time: {np.mean(sim.statistics['response_times']) :.5f}, expected response time: {sim.expected_response_time :.5f}\")\n",
    "print(f\"empirical server utilisation: {sim.statistics['server_utilisation'][0] :.5f}, expected server utilisation: {sim.rho :.5f}\")"
   ]
  },
  {
   "cell_type": "markdown",
   "id": "1dbad01a-224d-4e07-b017-5a5782c8b3e9",
   "metadata": {},
   "source": [
    "Arrival rate: $\\lambda = 1$\n",
    "\n",
    "Departure rate: $\\mu = 4$"
   ]
  },
  {
   "cell_type": "code",
   "execution_count": 3,
   "id": "4335cf59-c2d5-4ed9-a3bc-79922d961cd8",
   "metadata": {},
   "outputs": [
    {
     "name": "stdout",
     "output_type": "stream",
     "text": [
      "empirical mean response time: 0.33187, expected response time: 0.33333\n",
      "empirical server utilisation: 0.25233, expected server utilisation: 0.25000\n"
     ]
    }
   ],
   "source": [
    "sim = MM1(1, 4, time_end = 5000, seed = 0)\n",
    "sim.run()\n",
    "sim.evaluate() #25% by default is the transient exclusion\n",
    "\n",
    "print(f\"empirical mean response time: {np.mean(sim.statistics['response_times']) :.5f}, expected response time: {sim.expected_response_time :.5f}\")\n",
    "print(f\"empirical server utilisation: {sim.statistics['server_utilisation'][0] :.5f}, expected server utilisation: {sim.rho :.5f}\")"
   ]
  },
  {
   "cell_type": "markdown",
   "id": "e2ef3107-9473-4171-9833-fd13d1eb7651",
   "metadata": {},
   "source": [
    "## MMn Queues"
   ]
  },
  {
   "cell_type": "markdown",
   "id": "0f9b2d19-f175-4688-9dd7-5399f12018b9",
   "metadata": {},
   "source": [
    "Arrival rate: $\\lambda = 1$\n",
    "\n",
    "Departure rate: $\\mu = 1$\n",
    "\n",
    "Number of servers: $n = 2$"
   ]
  },
  {
   "cell_type": "code",
   "execution_count": 4,
   "id": "2b780236-9145-4348-83bc-fe80c3bb3c7b",
   "metadata": {},
   "outputs": [
    {
     "name": "stdout",
     "output_type": "stream",
     "text": [
      "empirical mean response time: 1.31909, expected response time: 1.33333\n",
      "empirical server utilisation: 0.50456, expected server utilisation: 0.50000\n"
     ]
    }
   ],
   "source": [
    "sim = MMn(1, 1, 2, time_end = 5000, seed = 0)\n",
    "sim.run()\n",
    "sim.evaluate() #25% by default is the transient exclusion\n",
    "\n",
    "print(f\"empirical mean response time: {sim.statistics['avg_response_times'][0] :.5f}, expected response time: {sim.expected_response_time :.5f}\")\n",
    "print(f\"empirical server utilisation: {np.mean(sim.statistics['server_utilisation']) :.5f}, expected server utilisation: {sim.rho :.5f}\")"
   ]
  },
  {
   "cell_type": "markdown",
   "id": "4ec05d31-b0ee-4f25-a4db-4f0ce0ff8ffd",
   "metadata": {},
   "source": [
    "Arrival rate: $\\lambda = 1$\n",
    "\n",
    "Departure rate: $\\mu = 1$\n",
    "\n",
    "Number of servers: $n = 4$"
   ]
  },
  {
   "cell_type": "code",
   "execution_count": 5,
   "id": "850f9661-2690-4921-8ab4-267ecc1f1649",
   "metadata": {},
   "outputs": [
    {
     "name": "stdout",
     "output_type": "stream",
     "text": [
      "empirical mean response time: 1.00073, expected response time: 1.00680\n",
      "empirical server utilisation: 0.25241, expected server utilisation: 0.25000\n"
     ]
    }
   ],
   "source": [
    "sim = MMn(1, 1, 4, time_end = 5000, seed = 0)\n",
    "sim.run()\n",
    "sim.evaluate() #25% by default is the transient exclusion\n",
    "\n",
    "print(f\"empirical mean response time: {sim.statistics['avg_response_times'][0] :.5f}, expected response time: {sim.expected_response_time :.5f}\")\n",
    "print(f\"empirical server utilisation: {np.mean(sim.statistics['server_utilisation']) :.5f}, expected server utilisation: {sim.rho :.5f}\")"
   ]
  },
  {
   "cell_type": "markdown",
   "id": "3a593048-bf70-41d7-93a8-98ea579a5a5c",
   "metadata": {},
   "source": [
    "Arrival rate: $\\lambda = 1$\n",
    "\n",
    "Departure rate: $\\mu = 2$\n",
    "\n",
    "Number of servers: $n = 2$"
   ]
  },
  {
   "cell_type": "code",
   "execution_count": 6,
   "id": "3d5f7b75-90a0-4102-a9d4-cf36a21e3c2a",
   "metadata": {},
   "outputs": [
    {
     "name": "stdout",
     "output_type": "stream",
     "text": [
      "empirical mean response time: 0.52681, expected response time: 0.53333\n",
      "empirical server utilisation: 0.25234, expected server utilisation: 0.25000\n"
     ]
    }
   ],
   "source": [
    "sim = MMn(1, 2, 2, time_end = 5000, seed = 0)\n",
    "sim.run()\n",
    "sim.evaluate() #25% by default is the transient exclusion\n",
    "\n",
    "print(f\"empirical mean response time: {sim.statistics['avg_response_times'][0] :.5f}, expected response time: {sim.expected_response_time :.5f}\")\n",
    "print(f\"empirical server utilisation: {np.mean(sim.statistics['server_utilisation']) :.5f}, expected server utilisation: {sim.rho :.5f}\")"
   ]
  },
  {
   "cell_type": "markdown",
   "id": "483c2b80-eb72-4aa8-8b91-5ef1d586fba5",
   "metadata": {},
   "source": [
    "## GGn Queues"
   ]
  },
  {
   "cell_type": "code",
   "execution_count": 7,
   "id": "8a0c7882-0f18-4a38-8eb4-5de8744af641",
   "metadata": {},
   "outputs": [
    {
     "name": "stdout",
     "output_type": "stream",
     "text": [
      "empirical mean response time: 0.54254, expected response time: 0.55556\n",
      "empirical server utilisation: 0.50305\n"
     ]
    }
   ],
   "source": [
    "sim = GGn((\"uniform\", (0,1)), (\"uniform\", (0,1)), 2, time_end = 5000, seed = 0)\n",
    "sim.run()\n",
    "sim.evaluate() #25% by default is the transient exclusion\n",
    "\n",
    "print(f\"empirical mean response time: {sim.statistics['avg_response_times'][0] :.5f}, expected response time: {sim.expected_response_time :.5f}\")\n",
    "print(f\"empirical server utilisation: {np.mean(sim.statistics['server_utilisation']) :.5f}\")"
   ]
  },
  {
   "cell_type": "code",
   "execution_count": 8,
   "id": "4dcec560-38e6-48dd-b345-e37df43b893d",
   "metadata": {},
   "outputs": [
    {
     "name": "stdout",
     "output_type": "stream",
     "text": [
      "empirical mean response time: 0.32725, expected response time: 0.33334\n",
      "empirical server utilisation: 0.08346\n"
     ]
    }
   ],
   "source": [
    "sim = GGn((\"normal\", (0,1)), (\"beta\", (1,2)), 5, time_end = 5000, seed = 0)\n",
    "sim.run()\n",
    "sim.evaluate() #25% by default is the transient exclusion\n",
    "\n",
    "print(f\"empirical mean response time: {sim.statistics['avg_response_times'][0] :.5f}, expected response time: {sim.expected_response_time :.5f}\")\n",
    "print(f\"empirical server utilisation: {np.mean(sim.statistics['server_utilisation']) :.5f}\")"
   ]
  },
  {
   "cell_type": "markdown",
   "id": "b8ab923a-eb5a-4617-9f76-ca8436e7b5b2",
   "metadata": {},
   "source": [
    "## Comparative Analysis"
   ]
  },
  {
   "cell_type": "markdown",
   "id": "eb030453-6f28-4e58-b355-d83e226748b9",
   "metadata": {},
   "source": [
    "### 1. Baseline"
   ]
  },
  {
   "cell_type": "markdown",
   "id": "1042419c-e2e6-42a6-97ce-d6aa07ecb902",
   "metadata": {},
   "source": [
    "Arrival rate: $\\lambda = 4$\n",
    "\n",
    "Departure rate: $\\mu = 5$\n",
    "\n",
    "Number of servers: $n = 1$"
   ]
  },
  {
   "cell_type": "code",
   "execution_count": 9,
   "id": "3e1e413f-4b53-4b00-b624-d3b95db03fd9",
   "metadata": {},
   "outputs": [
    {
     "name": "stdout",
     "output_type": "stream",
     "text": [
      "empirical mean response time: 0.98719, expected response time: 1.00000\n",
      "empirical server utilisation: 0.80207, expected server utilisation: 0.80000\n"
     ]
    }
   ],
   "source": [
    "sim = MM1(4, 5, time_end = 5000, seed = 0)\n",
    "sim.run()\n",
    "sim.evaluate()\n",
    "\n",
    "print(f\"empirical mean response time: {sim.statistics['avg_response_times'][0] :.5f}, expected response time: {sim.expected_response_time :.5f}\")\n",
    "print(f\"empirical server utilisation: {np.mean(sim.statistics['server_utilisation']) :.5f}, expected server utilisation: {sim.rho :.5f}\")"
   ]
  },
  {
   "cell_type": "markdown",
   "id": "41c269a2-bdb0-4945-bced-aed83ac26d2a",
   "metadata": {
    "tags": []
   },
   "source": [
    "### 2. Quantity"
   ]
  },
  {
   "cell_type": "markdown",
   "id": "3266e0c5-b02f-4e88-910e-c401b6dfbb51",
   "metadata": {},
   "source": [
    "Arrival rate: $\\lambda = 4$\n",
    "\n",
    "Departure rate: $\\mu = 5$\n",
    "\n",
    "Number of servers: $n = 2$"
   ]
  },
  {
   "cell_type": "code",
   "execution_count": 10,
   "id": "4f9a9403-ad4a-4e3d-9232-e1cca59e562c",
   "metadata": {},
   "outputs": [
    {
     "name": "stdout",
     "output_type": "stream",
     "text": [
      "empirical mean response time: 0.23529, expected response time: 0.23810\n",
      "empirical server utilisation: 0.40092, expected server utilisation: 0.40000\n"
     ]
    }
   ],
   "source": [
    "sim = MMn(4, 5, 2, time_end = 5000, seed = 0)\n",
    "sim.run()\n",
    "sim.evaluate()\n",
    "\n",
    "print(f\"empirical mean response time: {sim.statistics['avg_response_times'][0] :.5f}, expected response time: {sim.expected_response_time :.5f}\")\n",
    "print(f\"empirical server utilisation: {np.mean(sim.statistics['server_utilisation']) :.5f}, expected server utilisation: {sim.rho :.5f}\")"
   ]
  },
  {
   "cell_type": "markdown",
   "id": "4c75daed-37f7-4bc3-bc00-f0a15aeecb32",
   "metadata": {},
   "source": [
    "Arrival rate: $\\lambda = 4$\n",
    "\n",
    "Departure rate: $\\mu = 5$\n",
    "\n",
    "Number of servers: $n = 4$"
   ]
  },
  {
   "cell_type": "code",
   "execution_count": 11,
   "id": "8b5ae9e3-60fe-44e2-b63e-95b5e57a31dd",
   "metadata": {},
   "outputs": [
    {
     "name": "stdout",
     "output_type": "stream",
     "text": [
      "empirical mean response time: 0.19928, expected response time: 0.20060\n",
      "empirical server utilisation: 0.20046, expected server utilisation: 0.20000\n"
     ]
    }
   ],
   "source": [
    "sim = MMn(4, 5, 4, time_end = 5000, seed = 0)\n",
    "sim.run()\n",
    "sim.evaluate()\n",
    "\n",
    "print(f\"empirical mean response time: {sim.statistics['avg_response_times'][0] :.5f}, expected response time: {sim.expected_response_time :.5f}\")\n",
    "print(f\"empirical server utilisation: {np.mean(sim.statistics['server_utilisation']) :.5f}, expected server utilisation: {sim.rho :.5f}\")"
   ]
  },
  {
   "cell_type": "markdown",
   "id": "d9f11ad0-2e37-48d7-8e5b-004eeffc2d27",
   "metadata": {},
   "source": [
    "### 3. Quality"
   ]
  },
  {
   "cell_type": "markdown",
   "id": "3a0db8d2-b987-46a7-b118-57e329431a6e",
   "metadata": {},
   "source": [
    "Arrival rate: $\\lambda = 4$\n",
    "\n",
    "Departure rate: $\\mu = 7.5$\n",
    "\n",
    "Number of servers: $n = 1$"
   ]
  },
  {
   "cell_type": "code",
   "execution_count": 12,
   "id": "ba4c234f-dfb0-4c8d-a3e7-5660c0b63a3f",
   "metadata": {
    "tags": []
   },
   "outputs": [
    {
     "name": "stdout",
     "output_type": "stream",
     "text": [
      "empirical mean response time: 0.28603, expected response time: 0.28571\n",
      "empirical server utilisation: 0.53456, expected server utilisation: 0.53333\n"
     ]
    }
   ],
   "source": [
    "sim = MM1(4, 7.5, time_end = 5000, seed = 0)\n",
    "sim.run()\n",
    "sim.evaluate()\n",
    "\n",
    "print(f\"empirical mean response time: {sim.statistics['avg_response_times'][0] :.5f}, expected response time: {sim.expected_response_time :.5f}\")\n",
    "print(f\"empirical server utilisation: {np.mean(sim.statistics['server_utilisation']) :.5f}, expected server utilisation: {sim.rho :.5f}\")"
   ]
  },
  {
   "cell_type": "markdown",
   "id": "b2c6d501-515f-48bb-a24d-42616f468b12",
   "metadata": {},
   "source": [
    "Arrival rate: $\\lambda = 4$\n",
    "\n",
    "Departure rate: $\\mu = 10$\n",
    "\n",
    "Number of servers: $n = 1$"
   ]
  },
  {
   "cell_type": "code",
   "execution_count": 13,
   "id": "778d0023-7eb4-4899-983d-a4818db13925",
   "metadata": {},
   "outputs": [
    {
     "name": "stdout",
     "output_type": "stream",
     "text": [
      "empirical mean response time: 0.16604, expected response time: 0.16667\n",
      "empirical server utilisation: 0.40092, expected server utilisation: 0.40000\n"
     ]
    }
   ],
   "source": [
    "sim = MM1(4, 10, time_end = 5000, seed = 0)\n",
    "sim.run()\n",
    "sim.evaluate()\n",
    "\n",
    "print(f\"empirical mean response time: {sim.statistics['avg_response_times'][0] :.5f}, expected response time: {sim.expected_response_time :.5f}\")\n",
    "print(f\"empirical server utilisation: {np.mean(sim.statistics['server_utilisation']) :.5f}, expected server utilisation: {sim.rho :.5f}\")"
   ]
  },
  {
   "cell_type": "markdown",
   "id": "abf429bf-76a0-4436-b85e-c386c452db78",
   "metadata": {},
   "source": [
    "### 4. Adding More Efficient Servers"
   ]
  },
  {
   "cell_type": "markdown",
   "id": "2bbadb6b-5b75-4567-8ef8-0f766d2b30b2",
   "metadata": {},
   "source": [
    "Arrival rate: $\\lambda = 4$\n",
    "\n",
    "Departure rate: $\\mu = 5$\n",
    "\n",
    "Number of servers: $n = 2$"
   ]
  },
  {
   "cell_type": "code",
   "execution_count": 14,
   "id": "b7e432c7-840f-4ae4-af50-9b7ef879ca83",
   "metadata": {},
   "outputs": [
    {
     "name": "stdout",
     "output_type": "stream",
     "text": [
      "empirical mean response time: 0.23501\n",
      "empirical server utilisation: 0.39764\n"
     ]
    }
   ],
   "source": [
    "JL = JobList(time_end = 5000, interarrivals = ('exp', 4), workloads = ('exp', 1), seed = 1)\n",
    "sim = Simulation(JL, [Server(5), Server(5)]) #essentially MM2\n",
    "sim.run()\n",
    "sim.evaluate()\n",
    "\n",
    "print(f\"empirical mean response time: {sim.statistics['avg_response_times'][0] :.5f}\")\n",
    "print(f\"empirical server utilisation: {np.mean(sim.statistics['server_utilisation']) :.5f}\")"
   ]
  },
  {
   "cell_type": "markdown",
   "id": "08aab9db-564f-4b38-9c16-4625bacce3ea",
   "metadata": {},
   "source": [
    "Arrival rate: $\\lambda = 4$\n",
    "\n",
    "Departure rates: $\\mu_1 = 10, \\mu_2 = 5$\n",
    "\n",
    "Number of servers: $n = 2$"
   ]
  },
  {
   "cell_type": "code",
   "execution_count": 15,
   "id": "6efcd92a-f99e-468a-ab8d-4ede8ff90d81",
   "metadata": {},
   "outputs": [
    {
     "name": "stdout",
     "output_type": "stream",
     "text": [
      "empirical mean response time: 0.15199\n",
      "empirical server utilisations: [0.22730159234891245, 0.34067036256475836]\n"
     ]
    }
   ],
   "source": [
    "JL = JobList(time_end = 5000, interarrivals = ('exp', 4), workloads = ('exp', 1), seed = 1)\n",
    "sim = Simulation(JL, [Server(10), Server(5)]) #fast server takes priority\n",
    "sim.run()\n",
    "sim.evaluate()\n",
    "\n",
    "print(f\"empirical mean response time: {sim.statistics['avg_response_times'][0] :.5f}\")\n",
    "print(f\"empirical server utilisations: {sim.statistics['server_utilisation']}\")"
   ]
  },
  {
   "cell_type": "markdown",
   "id": "8d093b69-cbc2-4994-98e4-c32f610e2494",
   "metadata": {},
   "source": [
    "Arrival rate: $\\lambda = 4$\n",
    "\n",
    "Departure rates: $\\mu_1 = \\mu_2 = 7.5, \\mu_3 = 5$\n",
    "\n",
    "Number of servers: $n = 3$"
   ]
  },
  {
   "cell_type": "code",
   "execution_count": 16,
   "id": "bf2b0c17-4652-4d0b-9097-3a5f6ec37083",
   "metadata": {},
   "outputs": [
    {
     "name": "stdout",
     "output_type": "stream",
     "text": [
      "empirical mean response time: 0.15417\n",
      "empirical server utilisations: [0.1827958698986969, 0.18559706143506496, 0.24268692822278612]\n"
     ]
    }
   ],
   "source": [
    "JL = JobList(time_end = 5000, interarrivals = ('exp', 4), workloads = ('exp', 1), seed = 1)\n",
    "sim = Simulation(JL, [Server(7.5), Server(7.5), Server(5)]) #fast server takes priority\n",
    "sim.run()\n",
    "sim.evaluate()\n",
    "\n",
    "print(f\"empirical mean response time: {sim.statistics['avg_response_times'][0] :.5f}\")\n",
    "print(f\"empirical server utilisations: {sim.statistics['server_utilisation']}\")"
   ]
  },
  {
   "cell_type": "markdown",
   "id": "abf6d4d8-e6e4-4845-8563-1121c6997d3c",
   "metadata": {},
   "source": [
    "### 5. Non-Preemptive Priority Classes"
   ]
  }
 ],
 "metadata": {
  "kernelspec": {
   "display_name": "Python 3 (ipykernel)",
   "language": "python",
   "name": "python3"
  },
  "language_info": {
   "codemirror_mode": {
    "name": "ipython",
    "version": 3
   },
   "file_extension": ".py",
   "mimetype": "text/x-python",
   "name": "python",
   "nbconvert_exporter": "python",
   "pygments_lexer": "ipython3",
   "version": "3.10.4"
  }
 },
 "nbformat": 4,
 "nbformat_minor": 5
}
